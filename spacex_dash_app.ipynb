{
  "cells": [
    {
      "cell_type": "markdown",
      "metadata": {
        "id": "view-in-github",
        "colab_type": "text"
      },
      "source": [
        "<a href=\"https://colab.research.google.com/github/mumaralvi/IBMDataScienceCapstone/blob/main/spacex_dash_app.ipynb\" target=\"_parent\"><img src=\"https://colab.research.google.com/assets/colab-badge.svg\" alt=\"Open In Colab\"/></a>"
      ]
    },
    {
      "cell_type": "markdown",
      "id": "d50f534d",
      "metadata": {
        "id": "d50f534d"
      },
      "source": [
        "# SpaceX Launch Records Dashboard (Dash)\n",
        "\n",
        "This Colab‑ready notebook reproduces the Plotly Dash dashboard assignment.\n",
        "\n",
        "* It now **downloads the dataset directly** from IBM Skills Network object storage using `wget`, so no GitHub raw link is needed.\n"
      ]
    },
    {
      "cell_type": "code",
      "execution_count": 1,
      "id": "ca2bd51f",
      "metadata": {
        "colab": {
          "base_uri": "https://localhost:8080/"
        },
        "id": "ca2bd51f",
        "outputId": "d477fabc-dc63-45e3-b406-fcb1d3566c5c"
      },
      "outputs": [
        {
          "output_type": "stream",
          "name": "stdout",
          "text": [
            "\u001b[2K   \u001b[90m━━━━━━━━━━━━━━━━━━━━━━━━━━━━━━━━━━━━━━━━\u001b[0m \u001b[32m10.2/10.2 MB\u001b[0m \u001b[31m28.3 MB/s\u001b[0m eta \u001b[36m0:00:00\u001b[0m\n",
            "\u001b[2K   \u001b[90m━━━━━━━━━━━━━━━━━━━━━━━━━━━━━━━━━━━━━━━━\u001b[0m \u001b[32m15.6/15.6 MB\u001b[0m \u001b[31m20.6 MB/s\u001b[0m eta \u001b[36m0:00:00\u001b[0m\n",
            "\u001b[2K   \u001b[90m━━━━━━━━━━━━━━━━━━━━━━━━━━━━━━━━━━━━━━━━\u001b[0m \u001b[32m101.7/101.7 kB\u001b[0m \u001b[31m4.2 MB/s\u001b[0m eta \u001b[36m0:00:00\u001b[0m\n",
            "\u001b[2K   \u001b[90m━━━━━━━━━━━━━━━━━━━━━━━━━━━━━━━━━━━━━━━━\u001b[0m \u001b[32m228.0/228.0 kB\u001b[0m \u001b[31m11.0 MB/s\u001b[0m eta \u001b[36m0:00:00\u001b[0m\n",
            "\u001b[2K   \u001b[90m━━━━━━━━━━━━━━━━━━━━━━━━━━━━━━━━━━━━━━━━\u001b[0m \u001b[32m1.6/1.6 MB\u001b[0m \u001b[31m17.9 MB/s\u001b[0m eta \u001b[36m0:00:00\u001b[0m\n",
            "\u001b[?25h"
          ]
        }
      ],
      "source": [
        "# 📦 Install dependencies\n",
        "!pip -q install dash==2.15.0 jupyter-dash==0.4.2 plotly==5.18.0 pandas\n"
      ]
    },
    {
      "cell_type": "code",
      "execution_count": 2,
      "id": "b283ec35",
      "metadata": {
        "id": "b283ec35"
      },
      "outputs": [],
      "source": [
        "# ⬇️ Fetch the SpaceX CSV (runs once)\n",
        "!wget -q https://cf-courses-data.s3.us.cloud-object-storage.appdomain.cloud/IBM-DS0321EN-SkillsNetwork/datasets/spacex_launch_dash.csv -O spacex_launch_dash.csv\n"
      ]
    },
    {
      "cell_type": "code",
      "execution_count": 3,
      "id": "ddaa523b",
      "metadata": {
        "id": "ddaa523b"
      },
      "outputs": [],
      "source": [
        "import pandas as pd\n",
        "from jupyter_dash import JupyterDash\n",
        "from dash import html, dcc, Input, Output\n",
        "import plotly.express as px\n"
      ]
    },
    {
      "cell_type": "code",
      "execution_count": 4,
      "id": "f3d7e695",
      "metadata": {
        "id": "f3d7e695"
      },
      "outputs": [],
      "source": [
        "# 🔗 Load data\n",
        "spacex_df = pd.read_csv('spacex_launch_dash.csv')\n",
        "\n",
        "max_payload = spacex_df['Payload Mass (kg)'].max()\n",
        "min_payload = spacex_df['Payload Mass (kg)'].min()\n"
      ]
    },
    {
      "cell_type": "code",
      "execution_count": 5,
      "id": "d57c91ad",
      "metadata": {
        "colab": {
          "base_uri": "https://localhost:8080/",
          "height": 1000
        },
        "id": "d57c91ad",
        "outputId": "acf80464-4022-4eb0-9f40-f291b147aec5"
      },
      "outputs": [
        {
          "output_type": "stream",
          "name": "stderr",
          "text": [
            "/usr/local/lib/python3.11/dist-packages/dash/dash.py:538: UserWarning:\n",
            "\n",
            "JupyterDash is deprecated, use Dash instead.\n",
            "See https://dash.plotly.com/dash-in-jupyter for more details.\n",
            "\n"
          ]
        },
        {
          "output_type": "display_data",
          "data": {
            "text/plain": [
              "<IPython.core.display.Javascript object>"
            ],
            "application/javascript": [
              "(async (port, path, width, height, cache, element) => {\n",
              "    if (!google.colab.kernel.accessAllowed && !cache) {\n",
              "      return;\n",
              "    }\n",
              "    element.appendChild(document.createTextNode(''));\n",
              "    const url = await google.colab.kernel.proxyPort(port, {cache});\n",
              "    const iframe = document.createElement('iframe');\n",
              "    iframe.src = new URL(path, url).toString();\n",
              "    iframe.height = height;\n",
              "    iframe.width = width;\n",
              "    iframe.style.border = 0;\n",
              "    iframe.allow = [\n",
              "        'accelerometer',\n",
              "        'autoplay',\n",
              "        'camera',\n",
              "        'clipboard-read',\n",
              "        'clipboard-write',\n",
              "        'gyroscope',\n",
              "        'magnetometer',\n",
              "        'microphone',\n",
              "        'serial',\n",
              "        'usb',\n",
              "        'xr-spatial-tracking',\n",
              "    ].join('; ');\n",
              "    element.appendChild(iframe);\n",
              "  })(8050, \"/\", \"100%\", 650, false, window.element)"
            ]
          },
          "metadata": {}
        },
        {
          "output_type": "display_data",
          "data": {
            "text/plain": [
              "<IPython.core.display.Javascript object>"
            ],
            "application/javascript": [
              "(async (port, path, width, height, cache, element) => {\n",
              "    if (!google.colab.kernel.accessAllowed && !cache) {\n",
              "      return;\n",
              "    }\n",
              "    element.appendChild(document.createTextNode(''));\n",
              "    const url = await google.colab.kernel.proxyPort(port, {cache});\n",
              "    const iframe = document.createElement('iframe');\n",
              "    iframe.src = new URL(path, url).toString();\n",
              "    iframe.height = height;\n",
              "    iframe.width = width;\n",
              "    iframe.style.border = 0;\n",
              "    iframe.allow = [\n",
              "        'accelerometer',\n",
              "        'autoplay',\n",
              "        'camera',\n",
              "        'clipboard-read',\n",
              "        'clipboard-write',\n",
              "        'gyroscope',\n",
              "        'magnetometer',\n",
              "        'microphone',\n",
              "        'serial',\n",
              "        'usb',\n",
              "        'xr-spatial-tracking',\n",
              "    ].join('; ');\n",
              "    element.appendChild(iframe);\n",
              "  })(8050, \"/\", \"100%\", 650, false, window.element)"
            ]
          },
          "metadata": {}
        }
      ],
      "source": [
        "# 🚀 Build the Dash app\n",
        "app = JupyterDash(__name__)\n",
        "\n",
        "app.layout = html.Div(children=[\n",
        "    html.H1('SpaceX Launch Records Dashboard',\n",
        "            style={'textAlign': 'center', 'color': '#503D36', 'font-size': 40}),\n",
        "    dcc.Dropdown(\n",
        "        id='site-dropdown',\n",
        "        options=[\n",
        "            {'label': 'All Sites', 'value': 'ALL'},\n",
        "            {'label': 'CCAFS LC-40', 'value': 'CCAFS LC-40'},\n",
        "            {'label': 'VAFB SLC-4E', 'value': 'VAFB SLC-4E'},\n",
        "            {'label': 'KSC LC-39A', 'value': 'KSC LC-39A'},\n",
        "            {'label': 'CCAFS SLC-40', 'value': 'CCAFS SLC-40'},\n",
        "        ],\n",
        "        value='ALL',\n",
        "        placeholder='Select a Launch Site here',\n",
        "        searchable=True\n",
        "    ),\n",
        "    html.Br(),\n",
        "    html.Div(dcc.Graph(id='success-pie-chart')),\n",
        "    html.Br(),\n",
        "    html.P(\"Payload range (Kg):\"),\n",
        "    dcc.RangeSlider(\n",
        "        id='payload-slider',\n",
        "        min=0,\n",
        "        max=10000,\n",
        "        step=1000,\n",
        "        marks={0: '0', 2500: '2500', 5000: '5000', 7500: '7500', 10000: '10000'},\n",
        "        value=[min_payload, max_payload]\n",
        "    ),\n",
        "    html.Div(dcc.Graph(id='success-payload-scatter-chart')),\n",
        "])\n",
        "\n",
        "@app.callback(\n",
        "    Output('success-pie-chart', 'figure'),\n",
        "    Input('site-dropdown', 'value')\n",
        ")\n",
        "def get_pie_chart(entered_site):\n",
        "    if entered_site == 'ALL':\n",
        "        fig = px.pie(\n",
        "            spacex_df,\n",
        "            values='class',\n",
        "            names='Launch Site',\n",
        "            title='Total Success Launches by Site'\n",
        "        )\n",
        "    else:\n",
        "        filtered_df = spacex_df[spacex_df['Launch Site'] == entered_site]\n",
        "        fig = px.pie(\n",
        "            filtered_df,\n",
        "            names='class',\n",
        "            title=f'Success vs Failure for site {entered_site}'\n",
        "        )\n",
        "    return fig\n",
        "\n",
        "@app.callback(\n",
        "    Output('success-payload-scatter-chart', 'figure'),\n",
        "    Input('site-dropdown', 'value'),\n",
        "    Input('payload-slider', 'value')\n",
        ")\n",
        "def get_scatter_plot(entered_site, payload_range):\n",
        "    low, high = payload_range\n",
        "    mask = (spacex_df['Payload Mass (kg)'] >= low) & (spacex_df['Payload Mass (kg)'] <= high)\n",
        "    filtered_df = spacex_df[mask]\n",
        "\n",
        "    if entered_site == 'ALL':\n",
        "        fig = px.scatter(\n",
        "            filtered_df,\n",
        "            x='Payload Mass (kg)',\n",
        "            y='class',\n",
        "            color='Booster Version Category',\n",
        "            title='Payload vs Outcome for All Sites'\n",
        "        )\n",
        "    else:\n",
        "        site_df = filtered_df[filtered_df['Launch Site'] == entered_site]\n",
        "        fig = px.scatter(\n",
        "            site_df,\n",
        "            x='Payload Mass (kg)',\n",
        "            y='class',\n",
        "            color='Booster Version Category',\n",
        "            title=f'Payload vs Outcome for {entered_site}'\n",
        "        )\n",
        "    return fig\n",
        "\n",
        "# 👇 Run the app\n",
        "app.run_server(mode='inline', debug=True, port=8050, height=650)\n"
      ]
    },
    {
      "cell_type": "code",
      "source": [],
      "metadata": {
        "id": "d4wM1xu95Zi6"
      },
      "id": "d4wM1xu95Zi6",
      "execution_count": null,
      "outputs": []
    }
  ],
  "metadata": {
    "colab": {
      "provenance": [],
      "include_colab_link": true
    },
    "language_info": {
      "name": "python"
    },
    "kernelspec": {
      "name": "python3",
      "display_name": "Python 3"
    }
  },
  "nbformat": 4,
  "nbformat_minor": 5
}